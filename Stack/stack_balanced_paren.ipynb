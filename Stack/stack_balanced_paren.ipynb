{
 "cells": [
  {
   "cell_type": "code",
   "execution_count": 2,
   "metadata": {},
   "outputs": [],
   "source": [
    "class Stack():\n",
    "    def __init__(self):\n",
    "        self.items = []\n",
    "    def push(self,item):\n",
    "        self.items.append(item)\n",
    "        \n",
    "    def pop(self):\n",
    "        return self.items.pop()\n",
    "    def is_empty(self):\n",
    "        return self.items == []\n",
    "    def peek(self):\n",
    "        if not self.is_empty():\n",
    "            return self.items[-1]\n",
    "    def get_stack(self):\n",
    "        return self.items\n",
    "    "
   ]
  },
  {
   "cell_type": "code",
   "execution_count": 4,
   "metadata": {},
   "outputs": [],
   "source": [
    "def is_match(p1,p2):\n",
    "    if p1 ==\"{\" and p2 == \"}\":\n",
    "        return True\n",
    "    elif p1 ==\"[\" and p2 == \"]\":\n",
    "        return True\n",
    "    elif p1 ==\"(\" and p2 == \")\":\n",
    "        return True\n",
    "    else:\n",
    "        return False"
   ]
  },
  {
   "cell_type": "code",
   "execution_count": 6,
   "metadata": {},
   "outputs": [],
   "source": [
    "def is_paren_balanced(paren_string):\n",
    "    s = Stack()\n",
    "    is_balanced = True\n",
    "    index = 0\n",
    "    while index< len(paren_string) and is_balanced:\n",
    "        paren  = paren_string[index]\n",
    "        if paren in \"{[(\":\n",
    "            s.push(paren)\n",
    "        else:\n",
    "            if s.is_empty():\n",
    "                is_balanced = False\n",
    "                \n",
    "            else:\n",
    "                top  = s.pop()\n",
    "                if not is_match(top,paren):\n",
    "                    is_balanced = False\n",
    "        index+=1\n",
    "    if s.is_empty() and is_balanced:\n",
    "        return True\n",
    "    else:\n",
    "        return False\n",
    "                \n",
    "                \n",
    "                 \n",
    "    "
   ]
  },
  {
   "cell_type": "code",
   "execution_count": 9,
   "metadata": {},
   "outputs": [
    {
     "name": "stdout",
     "output_type": "stream",
     "text": [
      "True\n"
     ]
    }
   ],
   "source": [
    "print(is_paren_balanced(\"{[({[()]})]}\"))"
   ]
  }
 ],
 "metadata": {
  "kernelspec": {
   "display_name": "Python 3",
   "language": "python",
   "name": "python3"
  },
  "language_info": {
   "codemirror_mode": {
    "name": "ipython",
    "version": 3
   },
   "file_extension": ".py",
   "mimetype": "text/x-python",
   "name": "python",
   "nbconvert_exporter": "python",
   "pygments_lexer": "ipython3",
   "version": "3.6.8"
  }
 },
 "nbformat": 4,
 "nbformat_minor": 2
}
