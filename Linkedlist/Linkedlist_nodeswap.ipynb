{
 "cells": [
  {
   "cell_type": "code",
   "execution_count": 1,
   "metadata": {},
   "outputs": [],
   "source": [
    "class Node:\n",
    "    def __init__(self,data):\n",
    "        self.data = data\n",
    "        self.next = None\n",
    "    "
   ]
  },
  {
   "cell_type": "code",
   "execution_count": 11,
   "metadata": {},
   "outputs": [],
   "source": [
    "class LinkedList:\n",
    "    def __init__(self):\n",
    "        self.head = None\n",
    "        \n",
    "    def print_list(self):\n",
    "        cur_node = self.head\n",
    "        while cur_node:\n",
    "            print(cur_node.data)\n",
    "            cur_node = cur_node.next\n",
    "    def append(self,data):\n",
    "        new_node = Node(data)\n",
    "        if self.head is None:\n",
    "            self.head = new_node\n",
    "            return\n",
    "        last_node = self.head\n",
    "        while last_node.next:\n",
    "            last_node = last_node.next\n",
    "        last_node.next = new_node \n",
    "    def swap_nodes(self,key1,key2):\n",
    "        if key1 == key2:\n",
    "            return\n",
    "        prev1 = None\n",
    "        curr_1 = self.head\n",
    "        while curr_1 and curr_1.data != key1:\n",
    "            prev1 = curr_1\n",
    "            curr_1 = curr_1.next\n",
    "        prev2 = None\n",
    "        curr_2 = self.head\n",
    "        while curr_2 and curr_2.data != key2:\n",
    "            prev2 = curr_2\n",
    "            curr_2 = curr_2.next\n",
    "        \n",
    "        if not curr_1 or not curr_2:\n",
    "            \n",
    "            \n",
    "            return\n",
    "        \n",
    "        if prev1:\n",
    "            prev1.next = curr_2\n",
    "        else:\n",
    "            self.head = curr_2\n",
    "        \n",
    "        if prev2:\n",
    "            prev2.next = curr_1 \n",
    "        else:\n",
    "            self.head = curr_1\n",
    "        curr_1.next, curr_2.next = curr_2.next, curr_1.next\n",
    "        \n",
    "        "
   ]
  },
  {
   "cell_type": "code",
   "execution_count": 14,
   "metadata": {},
   "outputs": [
    {
     "name": "stdout",
     "output_type": "stream",
     "text": [
      "A\n",
      "C\n",
      "B\n",
      "D\n"
     ]
    }
   ],
   "source": [
    "llist = LinkedList()\n",
    "llist.append(\"A\")\n",
    "llist.append(\"B\")\n",
    "llist.append(\"C\")\n",
    "llist.append(\"D\")\n",
    "llist.swap_nodes(\"B\",\"C\")\n",
    "llist.print_list()"
   ]
  }
 ],
 "metadata": {
  "kernelspec": {
   "display_name": "Python 3",
   "language": "python",
   "name": "python3"
  },
  "language_info": {
   "codemirror_mode": {
    "name": "ipython",
    "version": 3
   },
   "file_extension": ".py",
   "mimetype": "text/x-python",
   "name": "python",
   "nbconvert_exporter": "python",
   "pygments_lexer": "ipython3",
   "version": "3.6.8"
  }
 },
 "nbformat": 4,
 "nbformat_minor": 2
}
