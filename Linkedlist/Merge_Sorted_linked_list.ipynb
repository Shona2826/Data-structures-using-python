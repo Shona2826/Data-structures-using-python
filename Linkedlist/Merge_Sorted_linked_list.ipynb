{
 "cells": [
  {
   "cell_type": "code",
   "execution_count": null,
   "metadata": {},
   "outputs": [],
   "source": [
    "class Node:\n",
    "    def __init__(self,data):\n",
    "        self.data = data\n",
    "        self.next = None"
   ]
  },
  {
   "cell_type": "code",
   "execution_count": null,
   "metadata": {},
   "outputs": [],
   "source": [
    "class LinkedList:\n",
    "    def __init__(self):\n",
    "        self.head = None\n",
    "        \n",
    "    def print_list(self):\n",
    "        cur_node = self.head\n",
    "        while cur_node:\n",
    "            print(cur_node.data)\n",
    "            cur_node = cur_node.next\n",
    "    def append(self,data):\n",
    "        new_node = Node(data)\n",
    "        if self.head is None:\n",
    "            self.head = new_node\n",
    "            return\n",
    "        last_node = self.head\n",
    "        while last_node.next:\n",
    "            last_node = last_node.next\n",
    "        last_node.next = new_node \n",
    "            \n",
    "    def merge_sorted(self,llist):\n",
    "        p = self.head\n",
    "        q = self.head\n",
    "        s = None\n",
    "        if not p:\n",
    "            return q\n",
    "        if not q:\n",
    "            return q\n",
    "        if p and q:\n",
    "            if p.data <= q.data:\n",
    "                s =p \n",
    "                p = s.next\n",
    "            else:\n",
    "                s = q\n",
    "                q = s.next\n",
    "            \n",
    "            \n",
    "            new_head = s\n",
    "        while p and q:\n",
    "            if p.data <= q.data:\n",
    "                s.next = p\n",
    "                s = p\n",
    "                p = s.next\n",
    "   \n",
    "            else:\n",
    "                \n",
    "                s.next = q\n",
    "                s = q\n",
    "                q = s.next\n",
    "                \n",
    "        if not p:\n",
    "            s.next = q\n",
    "           \n",
    "        if not q:\n",
    "            s.next = p\n",
    "        return new_head\n",
    "            \n",
    "            \n",
    "        \n",
    "        \n",
    "        \n",
    "        \n",
    "    "
   ]
  },
  {
   "cell_type": "code",
   "execution_count": null,
   "metadata": {},
   "outputs": [],
   "source": [
    "llist_1 = LinkedList()\n",
    "llist_2 = LinkedList()\n",
    "\n"
   ]
  },
  {
   "cell_type": "code",
   "execution_count": null,
   "metadata": {},
   "outputs": [],
   "source": [
    "llist_1.append(1)\n",
    "llist_1.append(5)\n",
    "llist_1.append(7)\n",
    "llist_1.append(9)\n",
    "llist_1.append(10)"
   ]
  },
  {
   "cell_type": "code",
   "execution_count": null,
   "metadata": {},
   "outputs": [],
   "source": [
    "llist_1.append(2)\n",
    "llist_1.append(3)\n",
    "llist_1.append(4)\n",
    "llist_1.append(6)\n",
    "llist_1.append(8)"
   ]
  },
  {
   "cell_type": "code",
   "execution_count": null,
   "metadata": {},
   "outputs": [],
   "source": [
    "llist_1.merge_sorted(llist_2)\n",
    "llist_1.print_list()"
   ]
  },
  {
   "cell_type": "code",
   "execution_count": null,
   "metadata": {},
   "outputs": [],
   "source": []
  }
 ],
 "metadata": {
  "kernelspec": {
   "display_name": "Python 3",
   "language": "python",
   "name": "python3"
  },
  "language_info": {
   "codemirror_mode": {
    "name": "ipython",
    "version": 3
   },
   "file_extension": ".py",
   "mimetype": "text/x-python",
   "name": "python",
   "nbconvert_exporter": "python",
   "pygments_lexer": "ipython3",
   "version": "3.6.8"
  }
 },
 "nbformat": 4,
 "nbformat_minor": 2
}
