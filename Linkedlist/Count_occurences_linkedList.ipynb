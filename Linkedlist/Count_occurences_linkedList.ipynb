{
 "cells": [
  {
   "cell_type": "code",
   "execution_count": 1,
   "metadata": {},
   "outputs": [],
   "source": [
    "class Node:\n",
    "    def __init__(self,data):\n",
    "        self.data = data\n",
    "        self.next = None\n",
    "    "
   ]
  },
  {
   "cell_type": "code",
   "execution_count": 14,
   "metadata": {},
   "outputs": [],
   "source": [
    "class LinkedList:\n",
    "    def __init__(self):\n",
    "        self.head = None\n",
    "        \n",
    "    def print_list(self):\n",
    "        cur_node = self.head\n",
    "        while cur_node:\n",
    "            print(cur_node.data)\n",
    "            cur_node = cur_node.next\n",
    "    def append(self,data):\n",
    "        new_node = Node(data)\n",
    "        if self.head is None:\n",
    "            self.head = new_node\n",
    "            return\n",
    "        last_node = self.head\n",
    "        while last_node.next:\n",
    "            last_node = last_node.next\n",
    "        last_node.next = new_node \n",
    "    def count_occurence_iterative(self,data):\n",
    "        p = self.head\n",
    "        count = 0\n",
    "        while p:\n",
    "            if p.data == data:\n",
    "                count+=1\n",
    "            p = p.next\n",
    "        return count\n",
    "    def count_occurence_recursive(self,node,data):\n",
    "        if not node:\n",
    "            return 0\n",
    "        if node.data == data:\n",
    "            return 1+self.count_occurence_recursive(node.next,data)\n",
    "        else:\n",
    "            return self.count_occurence_recursive(node.next,data)\n",
    "        \n",
    "        \n",
    "    "
   ]
  },
  {
   "cell_type": "code",
   "execution_count": 15,
   "metadata": {},
   "outputs": [
    {
     "name": "stdout",
     "output_type": "stream",
     "text": [
      "1\n",
      "6\n",
      "1\n",
      "4\n",
      "2\n",
      "2\n",
      "4\n",
      "2\n",
      "2\n"
     ]
    }
   ],
   "source": [
    "llist = LinkedList()\n",
    "llist.append(1)\n",
    "llist.append(6)\n",
    "llist.append(1)\n",
    "llist.append(4)\n",
    "llist.append(2)\n",
    "llist.append(2)\n",
    "llist.append(4)\n",
    "llist.print_list()\n",
    "print(llist.count_occurence_iterative(2))\n",
    "print(llist.count_occurence_recursive(llist.head,2))"
   ]
  }
 ],
 "metadata": {
  "kernelspec": {
   "display_name": "Python 3",
   "language": "python",
   "name": "python3"
  },
  "language_info": {
   "codemirror_mode": {
    "name": "ipython",
    "version": 3
   },
   "file_extension": ".py",
   "mimetype": "text/x-python",
   "name": "python",
   "nbconvert_exporter": "python",
   "pygments_lexer": "ipython3",
   "version": "3.6.8"
  }
 },
 "nbformat": 4,
 "nbformat_minor": 2
}
