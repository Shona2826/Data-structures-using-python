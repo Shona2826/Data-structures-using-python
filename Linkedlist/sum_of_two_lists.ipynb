{
 "cells": [
  {
   "cell_type": "code",
   "execution_count": 1,
   "metadata": {},
   "outputs": [],
   "source": [
    "class Node:\n",
    "    def __init__(self,data):\n",
    "        self.data = data\n",
    "        self.next = None"
   ]
  },
  {
   "cell_type": "code",
   "execution_count": 5,
   "metadata": {},
   "outputs": [],
   "source": [
    "class LinkedList:\n",
    "    def __init__(self):\n",
    "        self.head = None\n",
    "        \n",
    "    def print_list(self):\n",
    "        cur_node = self.head\n",
    "        while cur_node:\n",
    "            print(cur_node.data)\n",
    "            cur_node = cur_node.next\n",
    "    def append(self,data):\n",
    "        new_node = Node(data)\n",
    "        if self.head is None:\n",
    "            self.head = new_node\n",
    "            return\n",
    "        last_node = self.head\n",
    "        while last_node.next:\n",
    "            last_node = last_node.next\n",
    "        last_node.next = new_node \n",
    "    def sum_two_lists(self,llist):\n",
    "        p = self.head\n",
    "        q = llist.head\n",
    "        sum_llist = LinkedList()\n",
    "        carry = 0\n",
    "        while p or q:\n",
    "            if not p:\n",
    "                i = o\n",
    "            else:\n",
    "                i = p.data\n",
    "            if not q:\n",
    "                j =0 \n",
    "            else:\n",
    "                j = q.data\n",
    "            s = i+j+carry\n",
    "            if s >= 10:\n",
    "                carry = 1\n",
    "                remainder = s %10\n",
    "                sum_llist.append(remainder)\n",
    "            else:\n",
    "                carry = 0\n",
    "                sum_llist.append(s)\n",
    "            if p:\n",
    "                p = p.next\n",
    "            if q:\n",
    "                q = q.next\n",
    "        sum_llist.print_list()\n",
    "                \n",
    "                 "
   ]
  },
  {
   "cell_type": "code",
   "execution_count": 6,
   "metadata": {},
   "outputs": [
    {
     "name": "stdout",
     "output_type": "stream",
     "text": [
      "3\n",
      "3\n",
      "6\n"
     ]
    }
   ],
   "source": [
    "llist1 = LinkedList()\n",
    "llist1.append(5)\n",
    "llist1.append(6)\n",
    "llist1.append(3)\n",
    "llist2 = LinkedList()\n",
    "llist2.append(8)\n",
    "llist2.append(6)\n",
    "llist2.append(2)\n",
    "llist1.sum_two_lists(llist2)\n"
   ]
  }
 ],
 "metadata": {
  "kernelspec": {
   "display_name": "Python 3",
   "language": "python",
   "name": "python3"
  },
  "language_info": {
   "codemirror_mode": {
    "name": "ipython",
    "version": 3
   },
   "file_extension": ".py",
   "mimetype": "text/x-python",
   "name": "python",
   "nbconvert_exporter": "python",
   "pygments_lexer": "ipython3",
   "version": "3.6.8"
  }
 },
 "nbformat": 4,
 "nbformat_minor": 2
}
